{
 "cells": [
  {
   "cell_type": "markdown",
   "id": "841b9607",
   "metadata": {},
   "source": [
    "## Implementing visualkeras library to visualize the Neural Network"
   ]
  },
  {
   "cell_type": "code",
   "execution_count": 2,
   "id": "1fce1d06",
   "metadata": {},
   "outputs": [],
   "source": [
    "import keras"
   ]
  },
  {
   "cell_type": "code",
   "execution_count": 4,
   "id": "84e07a86",
   "metadata": {},
   "outputs": [],
   "source": [
    "from keras.models import load_model\n",
    "import visualkeras"
   ]
  },
  {
   "cell_type": "code",
   "execution_count": 5,
   "id": "e03fac25",
   "metadata": {},
   "outputs": [],
   "source": [
    "model = load_model(\"traffic_classifier.h5\")"
   ]
  },
  {
   "cell_type": "code",
   "execution_count": 6,
   "id": "2c365db4",
   "metadata": {},
   "outputs": [
    {
     "data": {
      "image/png": "[encoded data removed]",
      "text/plain": [
       "<PIL.Image.Image image mode=RGBA size=440x139 at 0x1FD48B8CF48>"
      ]
     },
     "execution_count": 6,
     "metadata": {},
     "output_type": "execute_result"
    }
   ],
   "source": [
    "visualkeras.layered_view(model)"
   ]
  }
 ],
 "metadata": {
  "kernelspec": {
   "display_name": "Python [ibmdl2.0]",
   "language": "python",
   "name": "ibmdl2.0"
  },
  "language_info": {
   "codemirror_mode": {
    "name": "ipython",
    "version": 3
   },
   "file_extension": ".py",
   "mimetype": "text/x-python",
   "name": "python",
   "nbconvert_exporter": "python",
   "pygments_lexer": "ipython3",
   "version": "3.7.9"
  }
 },
 "nbformat": 4,
 "nbformat_minor": 5
}
