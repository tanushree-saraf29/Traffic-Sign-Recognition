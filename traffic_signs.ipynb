{
 "cells": [
  {
   "cell_type": "markdown",
   "id": "336b1f1b",
   "metadata": {},
   "source": [
    "# Deep Learning Mini Project\n",
    "## Problem statement: Traffic sign recognition using a tkinter based GUI "
   ]
  },
  {
   "cell_type": "markdown",
   "id": "9e593493",
   "metadata": {},
   "source": [
    "## Training the CNN model on GTSRB dataset"
   ]
  },
  {
   "cell_type": "markdown",
   "id": "46ed4918",
   "metadata": {},
   "source": [
    "#### Objective: \n",
    "1. To use Convolutional Neural Networks to train a model that detects traffic signs\n",
    "2. To recognise the traffic signs by classifying a test images and applying it into the model\n",
    "\n",
    "#### Dataset used:\n",
    "GTSRB, a German Traffic Sign Recognition Dataset\n",
    "The images are classified into 43 classes. The training set contains 39209 labeled images and the test set contains 12630 images. \n",
    "Link: https://www.kaggle.com/meowmeowmeowmeowmeow/gtsrb-german-traffic-sign\n",
    "\n",
    "#### Algorithm/Approach:\n",
    "1. Retrieve the images and their labels\n",
    "2. Convert these images into arrays to use as features for the model\n",
    "3. Split the dataset into train and test dataset and convert them into one hot encoding format\n",
    "4. Build up the layers of the CNN model\n",
    "5. Train the model, plot accuracy graph and save it\n",
    "6. Test accuracy on test dataset and calculate its accuracy, and save the classifier\n",
    "7. Recognise other images by using classifier along with the tkinter GUI package"
   ]
  },
  {
   "cell_type": "markdown",
   "id": "4e5e08d6",
   "metadata": {},
   "source": [
    "#### What is Convolution Neural Network?\n",
    "Convolutional Neural Networks are a type of Deep Learning Algorithm **that take the image as an input and learn the various features of the image through filters**. \n",
    "\n",
    "This allows them to **learn the important objects present in the image, allowing them to discern one image from the other**. For example, the convolutional network will learn the specific features of cats that differentiate from the dogs so that when we provide input of cats and dogs, it can easily differentiate between the two. \n",
    "\n",
    "One important feature of Convolutional Neural Network that sets it apart from other Machine Learning algorithms is its **ability to pre-process the data by itself**. Thus, you may not spend a lot of resources in data pre-processing. \n",
    "\n",
    "During cold-start, the filters may require hand engineering but with progress in training, they are able to adapt to the learned features and develop filters of their own. Therefore, CNN is continuously evolving with growth in the data."
   ]
  },
  {
   "cell_type": "code",
   "execution_count": 13,
   "id": "978f0abb",
   "metadata": {},
   "outputs": [],
   "source": [
    "import numpy as np\n",
    "import pandas as pd\n",
    "import matplotlib.pyplot as plt\n",
    "import tensorflow as tf\n",
    "from PIL import Image\n",
    "import os\n",
    "from sklearn.model_selection import train_test_split\n",
    "from keras.utils import to_categorical\n",
    "from keras.models import Sequential\n",
    "from keras.layers import Conv2D, MaxPool2D, Dense, Flatten, Dropout"
   ]
  },
  {
   "cell_type": "code",
   "execution_count": 3,
   "id": "5d50a237",
   "metadata": {},
   "outputs": [],
   "source": [
    "data = []\n",
    "labels = []\n",
    "classes = 43\n",
    "cur_path = os.getcwd()"
   ]
  },
  {
   "cell_type": "code",
   "execution_count": 4,
   "id": "9d6ce6d4",
   "metadata": {},
   "outputs": [],
   "source": [
    "# Retrieving the images and their labels\n",
    "for i in range(classes):\n",
    "    path = os.path.join(cur_path, 'train', str(i))\n",
    "    images = os.listdir(path)\n",
    "    for a in images:\n",
    "        try:\n",
    "            image = Image.open(path + '\\\\'+ a)\n",
    "            image = image.resize((30, 30))\n",
    "            image = np.array(image)\n",
    "            data.append(image)\n",
    "            labels.append(i)\n",
    "        except:\n",
    "            print(\"Error loading image\")"
   ]
  },
  {
   "cell_type": "code",
   "execution_count": 5,
   "id": "c842ebbe",
   "metadata": {},
   "outputs": [
    {
     "name": "stdout",
     "output_type": "stream",
     "text": [
      "(39209, 30, 30, 3) (39209,)\n"
     ]
    }
   ],
   "source": [
    "# Converting lists into numpy arrays\n",
    "data = np.array(data)\n",
    "labels = np.array(labels)\n",
    "print(data.shape, labels.shape)"
   ]
  },
  {
   "cell_type": "code",
   "execution_count": 6,
   "id": "d39861e4",
   "metadata": {},
   "outputs": [
    {
     "name": "stdout",
     "output_type": "stream",
     "text": [
      "(31367, 30, 30, 3) (7842, 30, 30, 3) (31367,) (7842,)\n"
     ]
    }
   ],
   "source": [
    "# Splitting training and testing dataset\n",
    "X_train, X_test, y_train, y_test = train_test_split(data, labels, test_size=0.2, random_state=42)\n",
    "print(X_train.shape, X_test.shape, y_train.shape, y_test.shape)"
   ]
  },
  {
   "cell_type": "code",
   "execution_count": 7,
   "id": "0c67be3f",
   "metadata": {},
   "outputs": [],
   "source": [
    "# Converting the labels into one hot encoding\n",
    "y_train = to_categorical(y_train, 43) # This function returns a matrix of binary values (either ‘1’ or ‘0’). \n",
    "y_test = to_categorical(y_test, 43)   # It has number of rows equal to the length of the input vector and number of columns \n",
    "                                      # equal to the number of classes."
   ]
  },
  {
   "cell_type": "code",
   "execution_count": 14,
   "id": "099bf740",
   "metadata": {},
   "outputs": [],
   "source": [
    "# Building the model\n",
    "model = Sequential()\n",
    "model.add(Conv2D(filters=32, kernel_size=(5,5), activation='relu', input_shape=X_train.shape[1:]))\n",
    "model.add(Conv2D(filters=32, kernel_size=(5,5), activation='relu'))\n",
    "model.add(MaxPool2D(pool_size=(2, 2)))\n",
    "model.add(Dropout(rate=0.25))\n",
    "model.add(Conv2D(filters=64, kernel_size=(3, 3), activation='relu'))\n",
    "model.add(Conv2D(filters=64, kernel_size=(3, 3), activation='relu'))\n",
    "model.add(MaxPool2D(pool_size=(2, 2)))\n",
    "model.add(Dropout(rate=0.25))\n",
    "model.add(Flatten())\n",
    "model.add(Dense(256, activation='relu'))\n",
    "model.add(Dropout(rate=0.5))\n",
    "model.add(Dense(43, activation='softmax')) # since multiclass classification"
   ]
  },
  {
   "cell_type": "markdown",
   "id": "01493a1e",
   "metadata": {},
   "source": [
    "### Layers of the Sequential model:\n",
    "\n",
    "#### Conv2D:\n",
    "This layer creates a convolution kernel that is convolved with the layer input to produce a tensor of outputs.\n",
    "\n",
    "#### MaxPool2D:\n",
    "Downsamples the input representation by taking the maximum value over the window defined by pool_size for each dimension along the features axis.\n",
    "\n",
    "#### Dropout:\n",
    "Used for regularization of data. At each training stage, individual nodes are either dropped out of the net with probability 1-p or kept with probability p, so that a reduced network is left.\n",
    "\n",
    "#### Flatten:\n",
    "Flattens the output of the convolutional layers to create a single long feature vector. And it is connected to the final classification model, which is called a fully-connected layer.\n",
    "\n",
    "#### Dense:\n",
    "Dense layer is the regular deeply connected neural network layer. It is most common and frequently used layer."
   ]
  },
  {
   "cell_type": "code",
   "execution_count": 15,
   "id": "9c70e1dc",
   "metadata": {},
   "outputs": [
    {
     "name": "stdout",
     "output_type": "stream",
     "text": [
      "Epoch 1/15\n",
      "981/981 [==============================] - 119s 120ms/step - loss: 3.3968 - accuracy: 0.2772 - val_loss: 0.6834 - val_accuracy: 0.8298\n",
      "Epoch 2/15\n",
      "981/981 [==============================] - 117s 120ms/step - loss: 0.8710 - accuracy: 0.7424 - val_loss: 0.2339 - val_accuracy: 0.9359\n",
      "Epoch 3/15\n",
      "981/981 [==============================] - 116s 118ms/step - loss: 0.5160 - accuracy: 0.8480 - val_loss: 0.1759 - val_accuracy: 0.9536\n",
      "Epoch 4/15\n",
      "981/981 [==============================] - 111s 113ms/step - loss: 0.3410 - accuracy: 0.8970 - val_loss: 0.1367 - val_accuracy: 0.9676\n",
      "Epoch 5/15\n",
      "981/981 [==============================] - 112s 114ms/step - loss: 0.2828 - accuracy: 0.9179 - val_loss: 0.0736 - val_accuracy: 0.9824\n",
      "Epoch 6/15\n",
      "981/981 [==============================] - 107s 109ms/step - loss: 0.2320 - accuracy: 0.9333 - val_loss: 0.1084 - val_accuracy: 0.9702\n",
      "Epoch 7/15\n",
      "981/981 [==============================] - 103s 105ms/step - loss: 0.2314 - accuracy: 0.9345 - val_loss: 0.1043 - val_accuracy: 0.9725\n",
      "Epoch 8/15\n",
      "981/981 [==============================] - 109s 111ms/step - loss: 0.2449 - accuracy: 0.9326 - val_loss: 0.0735 - val_accuracy: 0.9782\n",
      "Epoch 9/15\n",
      "981/981 [==============================] - 121s 123ms/step - loss: 0.2142 - accuracy: 0.9402 - val_loss: 0.0634 - val_accuracy: 0.9830\n",
      "Epoch 10/15\n",
      "981/981 [==============================] - 121s 123ms/step - loss: 0.2233 - accuracy: 0.9423 - val_loss: 0.0526 - val_accuracy: 0.9860\n",
      "Epoch 11/15\n",
      "981/981 [==============================] - 114s 117ms/step - loss: 0.2220 - accuracy: 0.9402 - val_loss: 0.0418 - val_accuracy: 0.9897\n",
      "Epoch 12/15\n",
      "981/981 [==============================] - 105s 107ms/step - loss: 0.1798 - accuracy: 0.9509 - val_loss: 0.0682 - val_accuracy: 0.9813\n",
      "Epoch 13/15\n",
      "981/981 [==============================] - 103s 105ms/step - loss: 0.1925 - accuracy: 0.9487 - val_loss: 0.0652 - val_accuracy: 0.9827\n",
      "Epoch 14/15\n",
      "981/981 [==============================] - 108s 110ms/step - loss: 0.2055 - accuracy: 0.9452 - val_loss: 0.0577 - val_accuracy: 0.9867\n",
      "Epoch 15/15\n",
      "981/981 [==============================] - 105s 107ms/step - loss: 0.2076 - accuracy: 0.9454 - val_loss: 0.0509 - val_accuracy: 0.9888\n"
     ]
    }
   ],
   "source": [
    "# Compilation of the model\n",
    "model.compile(loss='categorical_crossentropy', optimizer='adam', metrics=['accuracy'])\n",
    "epochs = 15\n",
    "history = model.fit(X_train, y_train, batch_size=32, epochs=epochs, validation_data=(X_test, y_test))"
   ]
  },
  {
   "cell_type": "code",
   "execution_count": 16,
   "id": "b86f341c",
   "metadata": {},
   "outputs": [
    {
     "data": {
      "image/png": "[encoded data removed]",
      "text/plain": [
       "<Figure size 432x288 with 1 Axes>"
      ]
     },
     "metadata": {
      "needs_background": "light"
     },
     "output_type": "display_data"
    },
    {
     "data": {
      "image/png": "[encoded data removed]",
      "text/plain": [
       "<Figure size 432x288 with 1 Axes>"
      ]
     },
     "metadata": {
      "needs_background": "light"
     },
     "output_type": "display_data"
    }
   ],
   "source": [
    "# Plotting graphs for accuracy \n",
    "plt.figure(0)\n",
    "plt.plot(history.history['accuracy'], label='training accuracy')\n",
    "plt.plot(history.history['val_accuracy'], label='val accuracy')\n",
    "plt.title('Accuracy')\n",
    "plt.xlabel('epochs')\n",
    "plt.ylabel('accuracy')\n",
    "plt.legend()\n",
    "plt.show()\n",
    "plt.figure(1)\n",
    "plt.plot(history.history['loss'], label='training loss')\n",
    "plt.plot(history.history['val_loss'], label='val loss')\n",
    "plt.title('Loss')\n",
    "plt.xlabel('epochs')\n",
    "plt.ylabel('loss')\n",
    "plt.legend()\n",
    "plt.show()"
   ]
  },
  {
   "cell_type": "code",
   "execution_count": 17,
   "id": "90536146",
   "metadata": {},
   "outputs": [],
   "source": [
    "# Save the model\n",
    "model.save(\"my_model.h5\") "
   ]
  },
  {
   "cell_type": "code",
   "execution_count": 21,
   "id": "4cb63112",
   "metadata": {},
   "outputs": [],
   "source": [
    "# Testing accuracy on test dataset\n",
    "# 1. Retrieve the test images:\n",
    "y_test = pd.read_csv('Test.csv')\n",
    "labels = y_test[\"ClassId\"].values\n",
    "imgs = y_test[\"Path\"].values\n",
    "data=[]\n",
    "for img in imgs:\n",
    "    image = Image.open(img)\n",
    "    image = image.resize((30,30))\n",
    "    data.append(np.array(image))\n",
    "X_test = np.array(data)\n",
    "\n",
    "# 2. Predict the output for test data:\n",
    "pred = np.argmax((model.predict(X_test) > 0.5).astype(\"int32\"), axis=-1)"
   ]
  },
  {
   "cell_type": "code",
   "execution_count": 22,
   "id": "38b6434e",
   "metadata": {},
   "outputs": [
    {
     "name": "stdout",
     "output_type": "stream",
     "text": [
      "0.948535233570863\n"
     ]
    }
   ],
   "source": [
    "# Accuracy with the test data\n",
    "from sklearn.metrics import accuracy_score\n",
    "print(accuracy_score(labels, pred))"
   ]
  },
  {
   "cell_type": "code",
   "execution_count": 23,
   "id": "ceed4a36",
   "metadata": {},
   "outputs": [],
   "source": [
    "# Save the model\n",
    "model.save(\"traffic_classifier.h5\")"
   ]
  }
 ],
 "metadata": {
  "kernelspec": {
   "display_name": "Python 3 (ipykernel)",
   "language": "python",
   "name": "python3"
  },
  "language_info": {
   "codemirror_mode": {
    "name": "ipython",
    "version": 3
   },
   "file_extension": ".py",
   "mimetype": "text/x-python",
   "name": "python",
   "nbconvert_exporter": "python",
   "pygments_lexer": "ipython3",
   "version": "3.10.13"
  }
 },
 "nbformat": 4,
 "nbformat_minor": 5
}
